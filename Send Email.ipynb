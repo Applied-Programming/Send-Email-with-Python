{
 "cells": [
  {
   "cell_type": "markdown",
   "metadata": {},
   "source": [
    "## *sendemail.py* "
   ]
  },
  {
   "cell_type": "code",
   "execution_count": null,
   "metadata": {
    "collapsed": true
   },
   "outputs": [],
   "source": [
    "#! python3\n",
    "# Sends emails via python.\n",
    "\n",
    "import smtplib, sys\n",
    "\n",
    "# Log in to email account.\n",
    "smtpObj = smtplib.SMTP('smtp.gmail.com', 587)\n",
    "smtpObj.ehlo()\n",
    "smtpObj.starttls()\n",
    "\n",
    "smtpObj.login('your-gmail-id@gmail.com', 'your-gmail-account-password')\n",
    "\n",
    "# Send out emails.\n",
    "body = 'Specifically sent to you via a python script'\n",
    "\n",
    "print('Sending email...')\n",
    "sendmailStatus = smtpObj.sendmail('your-gmail-id@gmail.com','send-email-to-id@gmail.com' ,body)\n",
    "\n",
    "if sendmailStatus != {}:\n",
    "    print('There was a problem sending email : %s' % (your-email, sendmailStatus))\n",
    "smtpObj.quit()\n"
   ]
  },
  {
   "cell_type": "markdown",
   "metadata": {},
   "source": [
    "Your email would be sent.\n",
    "___"
   ]
  }
 ],
 "metadata": {
  "kernelspec": {
   "display_name": "Python 2",
   "language": "python",
   "name": "python2"
  },
  "language_info": {
   "codemirror_mode": {
    "name": "ipython",
    "version": 2
   },
   "file_extension": ".py",
   "mimetype": "text/x-python",
   "name": "python",
   "nbconvert_exporter": "python",
   "pygments_lexer": "ipython2",
   "version": "2.7.11"
  }
 },
 "nbformat": 4,
 "nbformat_minor": 0
}
